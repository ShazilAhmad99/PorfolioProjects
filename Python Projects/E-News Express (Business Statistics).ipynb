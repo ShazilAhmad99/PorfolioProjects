{
 "cells": [
  {
   "cell_type": "markdown",
   "id": "6yDxo9u0d9Na",
   "metadata": {
    "id": "6yDxo9u0d9Na"
   },
   "source": [
    "# Project Business Statistics: E-news Express\n",
    "\n"
   ]
  },
  {
   "cell_type": "markdown",
   "id": "SrLd-ICEmPSD",
   "metadata": {
    "id": "SrLd-ICEmPSD"
   },
   "source": [
    "## Define Problem Statement and Objectives"
   ]
  },
  {
   "cell_type": "markdown",
   "id": "9Vt1PLLqmXNn",
   "metadata": {
    "id": "9Vt1PLLqmXNn"
   },
   "source": [
    "#### Problem Statement \n",
    "Executives at E-News Express, and online news portal, are of the opinion that there has been a decline in monthly subscriptions to the service compared to previous years. They believe the reason to be because the current webpage is not designed well enough in terms of the recommended content and outlines to keep consumers engaged long enough to make the decision to subscribe. The company uses A/B Testing to help determine which features attract more subscriptions. \n",
    "#### Objective\n",
    "The design team has made a new, experimental landing page with a new outline and more relevant content to test if it can garner more subscriptions. Data was collected for both the new and the old webpages with a random sample of 50 customers for each. The following questions need to be answered using the data:\n",
    "\n",
    "1. Do the users spend more time on the new landing page than on the existing landing page?\n",
    "2. Is the conversion rate (the proportion of users who visit the landing page and get converted) for the new page greater than the conversion rate for the old page?\n",
    "3. Does the converted status depend on the preferred language?\n",
    "4. Is the time spent on the new page the same for the different language users?"
   ]
  },
  {
   "cell_type": "markdown",
   "id": "a6a3d218",
   "metadata": {
    "id": "a6a3d218"
   },
   "source": [
    "## Import all the necessary libraries"
   ]
  },
  {
   "cell_type": "code",
   "execution_count": 1,
   "id": "658c5dec",
   "metadata": {
    "id": "658c5dec"
   },
   "outputs": [],
   "source": [
    "import pandas as pd \n",
    "import numpy as np \n",
    "import matplotlib.pyplot as plt \n",
    "import seaborn as sns\n",
    "%matplotlib inline \n",
    "\n",
    "import scipy.stats as stats "
   ]
  },
  {
   "cell_type": "markdown",
   "id": "6970dd99",
   "metadata": {
    "id": "6970dd99"
   },
   "source": [
    "## Reading the Data into a DataFrame"
   ]
  },
  {
   "cell_type": "code",
   "execution_count": 2,
   "id": "d3b95640",
   "metadata": {
    "id": "d3b95640"
   },
   "outputs": [],
   "source": [
    "data = pd.read_csv('abtest.csv')\n",
    "df=data.copy()\n",
    "df=df.rename(columns={'time_spent_on_the_page':'time_spent'})"
   ]
  },
  {
   "cell_type": "markdown",
   "id": "9d75cfa2",
   "metadata": {
    "id": "9d75cfa2"
   },
   "source": [
    "## Explore the dataset and extract insights using Exploratory Data Analysis"
   ]
  },
  {
   "cell_type": "markdown",
   "id": "27201534",
   "metadata": {
    "id": "27201534"
   },
   "source": [
    "- Data Overview\n",
    "  - Viewing the first and last few rows of the dataset\n",
    "  - Checking the shape of the dataset\n",
    "  - Getting the statistical summary for the variables\n",
    "- Check for missing values\n",
    "- Check for duplicates"
   ]
  },
  {
   "cell_type": "code",
   "execution_count": 3,
   "id": "e1ad11d4",
   "metadata": {
    "id": "e1ad11d4"
   },
   "outputs": [
    {
     "data": {
      "text/html": [
       "<div>\n",
       "<style scoped>\n",
       "    .dataframe tbody tr th:only-of-type {\n",
       "        vertical-align: middle;\n",
       "    }\n",
       "\n",
       "    .dataframe tbody tr th {\n",
       "        vertical-align: top;\n",
       "    }\n",
       "\n",
       "    .dataframe thead th {\n",
       "        text-align: right;\n",
       "    }\n",
       "</style>\n",
       "<table border=\"1\" class=\"dataframe\">\n",
       "  <thead>\n",
       "    <tr style=\"text-align: right;\">\n",
       "      <th></th>\n",
       "      <th>user_id</th>\n",
       "      <th>group</th>\n",
       "      <th>landing_page</th>\n",
       "      <th>time_spent</th>\n",
       "      <th>converted</th>\n",
       "      <th>language_preferred</th>\n",
       "    </tr>\n",
       "  </thead>\n",
       "  <tbody>\n",
       "    <tr>\n",
       "      <th>0</th>\n",
       "      <td>546592</td>\n",
       "      <td>control</td>\n",
       "      <td>old</td>\n",
       "      <td>3.48</td>\n",
       "      <td>no</td>\n",
       "      <td>Spanish</td>\n",
       "    </tr>\n",
       "    <tr>\n",
       "      <th>1</th>\n",
       "      <td>546468</td>\n",
       "      <td>treatment</td>\n",
       "      <td>new</td>\n",
       "      <td>7.13</td>\n",
       "      <td>yes</td>\n",
       "      <td>English</td>\n",
       "    </tr>\n",
       "    <tr>\n",
       "      <th>2</th>\n",
       "      <td>546462</td>\n",
       "      <td>treatment</td>\n",
       "      <td>new</td>\n",
       "      <td>4.40</td>\n",
       "      <td>no</td>\n",
       "      <td>Spanish</td>\n",
       "    </tr>\n",
       "    <tr>\n",
       "      <th>3</th>\n",
       "      <td>546567</td>\n",
       "      <td>control</td>\n",
       "      <td>old</td>\n",
       "      <td>3.02</td>\n",
       "      <td>no</td>\n",
       "      <td>French</td>\n",
       "    </tr>\n",
       "    <tr>\n",
       "      <th>4</th>\n",
       "      <td>546459</td>\n",
       "      <td>treatment</td>\n",
       "      <td>new</td>\n",
       "      <td>4.75</td>\n",
       "      <td>yes</td>\n",
       "      <td>Spanish</td>\n",
       "    </tr>\n",
       "  </tbody>\n",
       "</table>\n",
       "</div>"
      ],
      "text/plain": [
       "   user_id      group landing_page  time_spent converted language_preferred\n",
       "0   546592    control          old        3.48        no            Spanish\n",
       "1   546468  treatment          new        7.13       yes            English\n",
       "2   546462  treatment          new        4.40        no            Spanish\n",
       "3   546567    control          old        3.02        no             French\n",
       "4   546459  treatment          new        4.75       yes            Spanish"
      ]
     },
     "metadata": {},
     "output_type": "display_data"
    }
   ],
   "source": [
    "display(df.head())"
   ]
  },
  {
   "cell_type": "code",
   "execution_count": 4,
   "id": "17f0dce9",
   "metadata": {},
   "outputs": [
    {
     "data": {
      "text/plain": [
       "(100, 6)"
      ]
     },
     "execution_count": 4,
     "metadata": {},
     "output_type": "execute_result"
    }
   ],
   "source": [
    "df.shape"
   ]
  },
  {
   "cell_type": "code",
   "execution_count": 5,
   "id": "c3c2a601",
   "metadata": {
    "scrolled": true
   },
   "outputs": [
    {
     "data": {
      "text/html": [
       "<div>\n",
       "<style scoped>\n",
       "    .dataframe tbody tr th:only-of-type {\n",
       "        vertical-align: middle;\n",
       "    }\n",
       "\n",
       "    .dataframe tbody tr th {\n",
       "        vertical-align: top;\n",
       "    }\n",
       "\n",
       "    .dataframe thead th {\n",
       "        text-align: right;\n",
       "    }\n",
       "</style>\n",
       "<table border=\"1\" class=\"dataframe\">\n",
       "  <thead>\n",
       "    <tr style=\"text-align: right;\">\n",
       "      <th></th>\n",
       "      <th>user_id</th>\n",
       "      <th>group</th>\n",
       "      <th>landing_page</th>\n",
       "      <th>time_spent</th>\n",
       "      <th>converted</th>\n",
       "      <th>language_preferred</th>\n",
       "    </tr>\n",
       "  </thead>\n",
       "  <tbody>\n",
       "    <tr>\n",
       "      <th>count</th>\n",
       "      <td>100.000000</td>\n",
       "      <td>100</td>\n",
       "      <td>100</td>\n",
       "      <td>100.000000</td>\n",
       "      <td>100</td>\n",
       "      <td>100</td>\n",
       "    </tr>\n",
       "    <tr>\n",
       "      <th>unique</th>\n",
       "      <td>NaN</td>\n",
       "      <td>2</td>\n",
       "      <td>2</td>\n",
       "      <td>NaN</td>\n",
       "      <td>2</td>\n",
       "      <td>3</td>\n",
       "    </tr>\n",
       "    <tr>\n",
       "      <th>top</th>\n",
       "      <td>NaN</td>\n",
       "      <td>control</td>\n",
       "      <td>old</td>\n",
       "      <td>NaN</td>\n",
       "      <td>yes</td>\n",
       "      <td>Spanish</td>\n",
       "    </tr>\n",
       "    <tr>\n",
       "      <th>freq</th>\n",
       "      <td>NaN</td>\n",
       "      <td>50</td>\n",
       "      <td>50</td>\n",
       "      <td>NaN</td>\n",
       "      <td>54</td>\n",
       "      <td>34</td>\n",
       "    </tr>\n",
       "    <tr>\n",
       "      <th>mean</th>\n",
       "      <td>546517.000000</td>\n",
       "      <td>NaN</td>\n",
       "      <td>NaN</td>\n",
       "      <td>5.377800</td>\n",
       "      <td>NaN</td>\n",
       "      <td>NaN</td>\n",
       "    </tr>\n",
       "    <tr>\n",
       "      <th>std</th>\n",
       "      <td>52.295779</td>\n",
       "      <td>NaN</td>\n",
       "      <td>NaN</td>\n",
       "      <td>2.378166</td>\n",
       "      <td>NaN</td>\n",
       "      <td>NaN</td>\n",
       "    </tr>\n",
       "    <tr>\n",
       "      <th>min</th>\n",
       "      <td>546443.000000</td>\n",
       "      <td>NaN</td>\n",
       "      <td>NaN</td>\n",
       "      <td>0.190000</td>\n",
       "      <td>NaN</td>\n",
       "      <td>NaN</td>\n",
       "    </tr>\n",
       "    <tr>\n",
       "      <th>25%</th>\n",
       "      <td>546467.750000</td>\n",
       "      <td>NaN</td>\n",
       "      <td>NaN</td>\n",
       "      <td>3.880000</td>\n",
       "      <td>NaN</td>\n",
       "      <td>NaN</td>\n",
       "    </tr>\n",
       "    <tr>\n",
       "      <th>50%</th>\n",
       "      <td>546492.500000</td>\n",
       "      <td>NaN</td>\n",
       "      <td>NaN</td>\n",
       "      <td>5.415000</td>\n",
       "      <td>NaN</td>\n",
       "      <td>NaN</td>\n",
       "    </tr>\n",
       "    <tr>\n",
       "      <th>75%</th>\n",
       "      <td>546567.250000</td>\n",
       "      <td>NaN</td>\n",
       "      <td>NaN</td>\n",
       "      <td>7.022500</td>\n",
       "      <td>NaN</td>\n",
       "      <td>NaN</td>\n",
       "    </tr>\n",
       "    <tr>\n",
       "      <th>max</th>\n",
       "      <td>546592.000000</td>\n",
       "      <td>NaN</td>\n",
       "      <td>NaN</td>\n",
       "      <td>10.710000</td>\n",
       "      <td>NaN</td>\n",
       "      <td>NaN</td>\n",
       "    </tr>\n",
       "  </tbody>\n",
       "</table>\n",
       "</div>"
      ],
      "text/plain": [
       "              user_id    group landing_page  time_spent converted  \\\n",
       "count      100.000000      100          100  100.000000       100   \n",
       "unique            NaN        2            2         NaN         2   \n",
       "top               NaN  control          old         NaN       yes   \n",
       "freq              NaN       50           50         NaN        54   \n",
       "mean    546517.000000      NaN          NaN    5.377800       NaN   \n",
       "std         52.295779      NaN          NaN    2.378166       NaN   \n",
       "min     546443.000000      NaN          NaN    0.190000       NaN   \n",
       "25%     546467.750000      NaN          NaN    3.880000       NaN   \n",
       "50%     546492.500000      NaN          NaN    5.415000       NaN   \n",
       "75%     546567.250000      NaN          NaN    7.022500       NaN   \n",
       "max     546592.000000      NaN          NaN   10.710000       NaN   \n",
       "\n",
       "       language_preferred  \n",
       "count                 100  \n",
       "unique                  3  \n",
       "top               Spanish  \n",
       "freq                   34  \n",
       "mean                  NaN  \n",
       "std                   NaN  \n",
       "min                   NaN  \n",
       "25%                   NaN  \n",
       "50%                   NaN  \n",
       "75%                   NaN  \n",
       "max                   NaN  "
      ]
     },
     "execution_count": 5,
     "metadata": {},
     "output_type": "execute_result"
    }
   ],
   "source": [
    "df.describe(include='all')"
   ]
  },
  {
   "cell_type": "code",
   "execution_count": 6,
   "id": "f034d30a",
   "metadata": {},
   "outputs": [
    {
     "data": {
      "text/html": [
       "<div>\n",
       "<style scoped>\n",
       "    .dataframe tbody tr th:only-of-type {\n",
       "        vertical-align: middle;\n",
       "    }\n",
       "\n",
       "    .dataframe tbody tr th {\n",
       "        vertical-align: top;\n",
       "    }\n",
       "\n",
       "    .dataframe thead th {\n",
       "        text-align: right;\n",
       "    }\n",
       "</style>\n",
       "<table border=\"1\" class=\"dataframe\">\n",
       "  <thead>\n",
       "    <tr style=\"text-align: right;\">\n",
       "      <th></th>\n",
       "      <th>user_id</th>\n",
       "      <th>group</th>\n",
       "      <th>landing_page</th>\n",
       "      <th>time_spent</th>\n",
       "      <th>converted</th>\n",
       "      <th>language_preferred</th>\n",
       "    </tr>\n",
       "  </thead>\n",
       "  <tbody>\n",
       "    <tr>\n",
       "      <th>0</th>\n",
       "      <td>546592</td>\n",
       "      <td>control</td>\n",
       "      <td>old</td>\n",
       "      <td>3.48</td>\n",
       "      <td>no</td>\n",
       "      <td>Spanish</td>\n",
       "    </tr>\n",
       "    <tr>\n",
       "      <th>1</th>\n",
       "      <td>546468</td>\n",
       "      <td>treatment</td>\n",
       "      <td>new</td>\n",
       "      <td>7.13</td>\n",
       "      <td>yes</td>\n",
       "      <td>English</td>\n",
       "    </tr>\n",
       "    <tr>\n",
       "      <th>2</th>\n",
       "      <td>546462</td>\n",
       "      <td>treatment</td>\n",
       "      <td>new</td>\n",
       "      <td>4.40</td>\n",
       "      <td>no</td>\n",
       "      <td>Spanish</td>\n",
       "    </tr>\n",
       "    <tr>\n",
       "      <th>3</th>\n",
       "      <td>546567</td>\n",
       "      <td>control</td>\n",
       "      <td>old</td>\n",
       "      <td>3.02</td>\n",
       "      <td>no</td>\n",
       "      <td>French</td>\n",
       "    </tr>\n",
       "    <tr>\n",
       "      <th>4</th>\n",
       "      <td>546459</td>\n",
       "      <td>treatment</td>\n",
       "      <td>new</td>\n",
       "      <td>4.75</td>\n",
       "      <td>yes</td>\n",
       "      <td>Spanish</td>\n",
       "    </tr>\n",
       "    <tr>\n",
       "      <th>...</th>\n",
       "      <td>...</td>\n",
       "      <td>...</td>\n",
       "      <td>...</td>\n",
       "      <td>...</td>\n",
       "      <td>...</td>\n",
       "      <td>...</td>\n",
       "    </tr>\n",
       "    <tr>\n",
       "      <th>95</th>\n",
       "      <td>546446</td>\n",
       "      <td>treatment</td>\n",
       "      <td>new</td>\n",
       "      <td>5.15</td>\n",
       "      <td>no</td>\n",
       "      <td>Spanish</td>\n",
       "    </tr>\n",
       "    <tr>\n",
       "      <th>96</th>\n",
       "      <td>546544</td>\n",
       "      <td>control</td>\n",
       "      <td>old</td>\n",
       "      <td>6.52</td>\n",
       "      <td>yes</td>\n",
       "      <td>English</td>\n",
       "    </tr>\n",
       "    <tr>\n",
       "      <th>97</th>\n",
       "      <td>546472</td>\n",
       "      <td>treatment</td>\n",
       "      <td>new</td>\n",
       "      <td>7.07</td>\n",
       "      <td>yes</td>\n",
       "      <td>Spanish</td>\n",
       "    </tr>\n",
       "    <tr>\n",
       "      <th>98</th>\n",
       "      <td>546481</td>\n",
       "      <td>treatment</td>\n",
       "      <td>new</td>\n",
       "      <td>6.20</td>\n",
       "      <td>yes</td>\n",
       "      <td>Spanish</td>\n",
       "    </tr>\n",
       "    <tr>\n",
       "      <th>99</th>\n",
       "      <td>546483</td>\n",
       "      <td>treatment</td>\n",
       "      <td>new</td>\n",
       "      <td>5.86</td>\n",
       "      <td>yes</td>\n",
       "      <td>English</td>\n",
       "    </tr>\n",
       "  </tbody>\n",
       "</table>\n",
       "<p>100 rows × 6 columns</p>\n",
       "</div>"
      ],
      "text/plain": [
       "    user_id      group landing_page  time_spent converted language_preferred\n",
       "0    546592    control          old        3.48        no            Spanish\n",
       "1    546468  treatment          new        7.13       yes            English\n",
       "2    546462  treatment          new        4.40        no            Spanish\n",
       "3    546567    control          old        3.02        no             French\n",
       "4    546459  treatment          new        4.75       yes            Spanish\n",
       "..      ...        ...          ...         ...       ...                ...\n",
       "95   546446  treatment          new        5.15        no            Spanish\n",
       "96   546544    control          old        6.52       yes            English\n",
       "97   546472  treatment          new        7.07       yes            Spanish\n",
       "98   546481  treatment          new        6.20       yes            Spanish\n",
       "99   546483  treatment          new        5.86       yes            English\n",
       "\n",
       "[100 rows x 6 columns]"
      ]
     },
     "execution_count": 6,
     "metadata": {},
     "output_type": "execute_result"
    }
   ],
   "source": [
    "df.drop_duplicates()"
   ]
  },
  {
   "cell_type": "code",
   "execution_count": 43,
   "id": "2978e3cc",
   "metadata": {
    "scrolled": true
   },
   "outputs": [
    {
     "data": {
      "text/plain": [
       "user_id               0\n",
       "group                 0\n",
       "landing_page          0\n",
       "time_spent            0\n",
       "converted             0\n",
       "language_preferred    0\n",
       "dtype: int64"
      ]
     },
     "execution_count": 43,
     "metadata": {},
     "output_type": "execute_result"
    }
   ],
   "source": [
    "df.isnull().sum()"
   ]
  },
  {
   "cell_type": "code",
   "execution_count": 6,
   "id": "702780be",
   "metadata": {
    "scrolled": true
   },
   "outputs": [
    {
     "name": "stdout",
     "output_type": "stream",
     "text": [
      "<class 'pandas.core.frame.DataFrame'>\n",
      "RangeIndex: 100 entries, 0 to 99\n",
      "Data columns (total 6 columns):\n",
      " #   Column              Non-Null Count  Dtype  \n",
      "---  ------              --------------  -----  \n",
      " 0   user_id             100 non-null    int64  \n",
      " 1   group               100 non-null    object \n",
      " 2   landing_page        100 non-null    object \n",
      " 3   time_spent          100 non-null    float64\n",
      " 4   converted           100 non-null    object \n",
      " 5   language_preferred  100 non-null    object \n",
      "dtypes: float64(1), int64(1), object(4)\n",
      "memory usage: 4.8+ KB\n"
     ]
    }
   ],
   "source": [
    "df.info()"
   ]
  },
  {
   "cell_type": "markdown",
   "id": "a7b6f4f7",
   "metadata": {},
   "source": [
    "There are no null values in the dataset, and the data types are accurate. "
   ]
  },
  {
   "cell_type": "code",
   "execution_count": 7,
   "id": "2deb7a4b",
   "metadata": {},
   "outputs": [],
   "source": [
    "df_control = df.loc[df['group']=='control']\n",
    "df_treat = df.loc[df['group']=='treatment']"
   ]
  },
  {
   "cell_type": "code",
   "execution_count": 8,
   "id": "27f09c2d",
   "metadata": {},
   "outputs": [
    {
     "data": {
      "text/html": [
       "<div>\n",
       "<style scoped>\n",
       "    .dataframe tbody tr th:only-of-type {\n",
       "        vertical-align: middle;\n",
       "    }\n",
       "\n",
       "    .dataframe tbody tr th {\n",
       "        vertical-align: top;\n",
       "    }\n",
       "\n",
       "    .dataframe thead th {\n",
       "        text-align: right;\n",
       "    }\n",
       "</style>\n",
       "<table border=\"1\" class=\"dataframe\">\n",
       "  <thead>\n",
       "    <tr style=\"text-align: right;\">\n",
       "      <th></th>\n",
       "      <th>user_id</th>\n",
       "      <th>time_spent</th>\n",
       "    </tr>\n",
       "  </thead>\n",
       "  <tbody>\n",
       "    <tr>\n",
       "      <th>count</th>\n",
       "      <td>50.00000</td>\n",
       "      <td>50.000000</td>\n",
       "    </tr>\n",
       "    <tr>\n",
       "      <th>mean</th>\n",
       "      <td>546566.50000</td>\n",
       "      <td>4.532400</td>\n",
       "    </tr>\n",
       "    <tr>\n",
       "      <th>std</th>\n",
       "      <td>17.67767</td>\n",
       "      <td>2.581975</td>\n",
       "    </tr>\n",
       "    <tr>\n",
       "      <th>min</th>\n",
       "      <td>546493.00000</td>\n",
       "      <td>0.190000</td>\n",
       "    </tr>\n",
       "    <tr>\n",
       "      <th>25%</th>\n",
       "      <td>546555.25000</td>\n",
       "      <td>2.720000</td>\n",
       "    </tr>\n",
       "    <tr>\n",
       "      <th>50%</th>\n",
       "      <td>546567.50000</td>\n",
       "      <td>4.380000</td>\n",
       "    </tr>\n",
       "    <tr>\n",
       "      <th>75%</th>\n",
       "      <td>546579.75000</td>\n",
       "      <td>6.442500</td>\n",
       "    </tr>\n",
       "    <tr>\n",
       "      <th>max</th>\n",
       "      <td>546592.00000</td>\n",
       "      <td>10.300000</td>\n",
       "    </tr>\n",
       "  </tbody>\n",
       "</table>\n",
       "</div>"
      ],
      "text/plain": [
       "            user_id  time_spent\n",
       "count      50.00000   50.000000\n",
       "mean   546566.50000    4.532400\n",
       "std        17.67767    2.581975\n",
       "min    546493.00000    0.190000\n",
       "25%    546555.25000    2.720000\n",
       "50%    546567.50000    4.380000\n",
       "75%    546579.75000    6.442500\n",
       "max    546592.00000   10.300000"
      ]
     },
     "metadata": {},
     "output_type": "display_data"
    },
    {
     "data": {
      "text/html": [
       "<div>\n",
       "<style scoped>\n",
       "    .dataframe tbody tr th:only-of-type {\n",
       "        vertical-align: middle;\n",
       "    }\n",
       "\n",
       "    .dataframe tbody tr th {\n",
       "        vertical-align: top;\n",
       "    }\n",
       "\n",
       "    .dataframe thead th {\n",
       "        text-align: right;\n",
       "    }\n",
       "</style>\n",
       "<table border=\"1\" class=\"dataframe\">\n",
       "  <thead>\n",
       "    <tr style=\"text-align: right;\">\n",
       "      <th></th>\n",
       "      <th>user_id</th>\n",
       "      <th>time_spent</th>\n",
       "    </tr>\n",
       "  </thead>\n",
       "  <tbody>\n",
       "    <tr>\n",
       "      <th>count</th>\n",
       "      <td>50.00000</td>\n",
       "      <td>50.000000</td>\n",
       "    </tr>\n",
       "    <tr>\n",
       "      <th>mean</th>\n",
       "      <td>546467.50000</td>\n",
       "      <td>6.223200</td>\n",
       "    </tr>\n",
       "    <tr>\n",
       "      <th>std</th>\n",
       "      <td>14.57738</td>\n",
       "      <td>1.817031</td>\n",
       "    </tr>\n",
       "    <tr>\n",
       "      <th>min</th>\n",
       "      <td>546443.00000</td>\n",
       "      <td>1.650000</td>\n",
       "    </tr>\n",
       "    <tr>\n",
       "      <th>25%</th>\n",
       "      <td>546455.25000</td>\n",
       "      <td>5.175000</td>\n",
       "    </tr>\n",
       "    <tr>\n",
       "      <th>50%</th>\n",
       "      <td>546467.50000</td>\n",
       "      <td>6.105000</td>\n",
       "    </tr>\n",
       "    <tr>\n",
       "      <th>75%</th>\n",
       "      <td>546479.75000</td>\n",
       "      <td>7.160000</td>\n",
       "    </tr>\n",
       "    <tr>\n",
       "      <th>max</th>\n",
       "      <td>546492.00000</td>\n",
       "      <td>10.710000</td>\n",
       "    </tr>\n",
       "  </tbody>\n",
       "</table>\n",
       "</div>"
      ],
      "text/plain": [
       "            user_id  time_spent\n",
       "count      50.00000   50.000000\n",
       "mean   546467.50000    6.223200\n",
       "std        14.57738    1.817031\n",
       "min    546443.00000    1.650000\n",
       "25%    546455.25000    5.175000\n",
       "50%    546467.50000    6.105000\n",
       "75%    546479.75000    7.160000\n",
       "max    546492.00000   10.710000"
      ]
     },
     "execution_count": 8,
     "metadata": {},
     "output_type": "execute_result"
    }
   ],
   "source": [
    "display(df_control.describe())\n",
    "df_treat.describe()"
   ]
  },
  {
   "cell_type": "markdown",
   "id": "68f3b2c9",
   "metadata": {
    "id": "68f3b2c9"
   },
   "source": [
    "### Univariate Analysis"
   ]
  },
  {
   "cell_type": "code",
   "execution_count": 9,
   "id": "256092d9",
   "metadata": {},
   "outputs": [
    {
     "data": {
      "text/plain": [
       "100"
      ]
     },
     "execution_count": 9,
     "metadata": {},
     "output_type": "execute_result"
    }
   ],
   "source": [
    "df['user_id'].nunique()"
   ]
  },
  {
   "cell_type": "code",
   "execution_count": 10,
   "id": "1932d0f3",
   "metadata": {
    "id": "1932d0f3"
   },
   "outputs": [
    {
     "name": "stdout",
     "output_type": "stream",
     "text": [
      "group\n",
      "control      50\n",
      "treatment    50\n",
      "Name: count, dtype: int64\n"
     ]
    },
    {
     "data": {
      "text/plain": [
       "<Axes: xlabel='group', ylabel='count'>"
      ]
     },
     "execution_count": 10,
     "metadata": {},
     "output_type": "execute_result"
    },
    {
     "data": {
      "image/png": "[encoded data removed]",
      "text/plain": [
       "<Figure size 640x480 with 1 Axes>"
      ]
     },
     "metadata": {},
     "output_type": "display_data"
    }
   ],
   "source": [
    "print(df['group'].value_counts())\n",
    "sns.countplot(data=df,x='group')"
   ]
  },
  {
   "cell_type": "code",
   "execution_count": 11,
   "id": "eaadc225",
   "metadata": {},
   "outputs": [
    {
     "name": "stdout",
     "output_type": "stream",
     "text": [
      "landing_page\n",
      "old    50\n",
      "new    50\n",
      "Name: count, dtype: int64\n"
     ]
    },
    {
     "data": {
      "text/plain": [
       "<Axes: xlabel='landing_page', ylabel='count'>"
      ]
     },
     "execution_count": 11,
     "metadata": {},
     "output_type": "execute_result"
    },
    {
     "data": {
      "image/png": "[encoded data removed]",
      "text/plain": [
       "<Figure size 640x480 with 1 Axes>"
      ]
     },
     "metadata": {},
     "output_type": "display_data"
    }
   ],
   "source": [
    "print(df['landing_page'].value_counts())\n",
    "sns.countplot(data=df,x='landing_page')"
   ]
  },
  {
   "cell_type": "code",
   "execution_count": 12,
   "id": "5ea166b2",
   "metadata": {},
   "outputs": [
    {
     "name": "stdout",
     "output_type": "stream",
     "text": [
      "5.377800000000001\n"
     ]
    },
    {
     "data": {
      "image/png": "[encoded data removed]",
      "text/plain": [
       "<Figure size 640x480 with 1 Axes>"
      ]
     },
     "metadata": {},
     "output_type": "display_data"
    },
    {
     "data": {
      "text/plain": [
       "<Axes: xlabel='time_spent'>"
      ]
     },
     "execution_count": 12,
     "metadata": {},
     "output_type": "execute_result"
    },
    {
     "data": {
      "image/png": "[encoded data removed]",
      "text/plain": [
       "<Figure size 640x480 with 1 Axes>"
      ]
     },
     "metadata": {},
     "output_type": "display_data"
    }
   ],
   "source": [
    "print(df['time_spent'].mean())\n",
    "sns.histplot(data=df,x='time_spent',kde=True)\n",
    "plt.show()\n",
    "sns.boxplot(data=df,x='time_spent')"
   ]
  },
  {
   "cell_type": "code",
   "execution_count": 13,
   "id": "ac2f2382",
   "metadata": {},
   "outputs": [
    {
     "name": "stdout",
     "output_type": "stream",
     "text": [
      "converted\n",
      "yes    54\n",
      "no     46\n",
      "Name: count, dtype: int64\n"
     ]
    },
    {
     "data": {
      "text/plain": [
       "<Axes: xlabel='converted', ylabel='count'>"
      ]
     },
     "execution_count": 13,
     "metadata": {},
     "output_type": "execute_result"
    },
    {
     "data": {
      "image/png": "[encoded data removed]",
      "text/plain": [
       "<Figure size 640x480 with 1 Axes>"
      ]
     },
     "metadata": {},
     "output_type": "display_data"
    }
   ],
   "source": [
    "print(df['converted'].value_counts())\n",
    "sns.countplot(data=df,x='converted')"
   ]
  },
  {
   "cell_type": "code",
   "execution_count": 14,
   "id": "9d7594ac",
   "metadata": {},
   "outputs": [
    {
     "name": "stdout",
     "output_type": "stream",
     "text": [
      "language_preferred\n",
      "Spanish    34\n",
      "French     34\n",
      "English    32\n",
      "Name: count, dtype: int64\n"
     ]
    },
    {
     "data": {
      "text/plain": [
       "<Axes: xlabel='language_preferred', ylabel='count'>"
      ]
     },
     "execution_count": 14,
     "metadata": {},
     "output_type": "execute_result"
    },
    {
     "data": {
      "image/png": "[encoded data removed]",
      "text/plain": [
       "<Figure size 640x480 with 1 Axes>"
      ]
     },
     "metadata": {},
     "output_type": "display_data"
    }
   ],
   "source": [
    "print(df['language_preferred'].value_counts())\n",
    "sns.countplot(x=df['language_preferred'])"
   ]
  },
  {
   "cell_type": "markdown",
   "id": "ec5fd011",
   "metadata": {},
   "source": [
    "#### Univariate Analysis\n",
    "There are 100 unique users in this sample. The group and the landing page variables are the same as they correspond to each other, with each having 100 counts. The histogram of the time spent variable shows a normal curve with the overall mean being arond 5.4 minutes and the max being almost 11 minutes. The boxplot shows that there are no outliers. The countplot of the converted variable shows that there were more users that subscribed in the study (54) than not (46). The countplot of the language preferred shows that of the 100 users, 32 preferred English, and 34 preferred Spanish and French each. "
   ]
  },
  {
   "cell_type": "markdown",
   "id": "fad2de2f",
   "metadata": {
    "id": "fad2de2f"
   },
   "source": [
    "### Bivariate Analysis"
   ]
  },
  {
   "cell_type": "code",
   "execution_count": 15,
   "id": "58e9a1d0",
   "metadata": {
    "id": "58e9a1d0",
    "scrolled": false
   },
   "outputs": [
    {
     "name": "stdout",
     "output_type": "stream",
     "text": [
      "converted\n",
      "no     3.915870\n",
      "yes    6.623148\n",
      "Name: time_spent, dtype: float64\n"
     ]
    },
    {
     "data": {
      "image/png": "[encoded data removed]",
      "text/plain": [
       "<Figure size 640x480 with 1 Axes>"
      ]
     },
     "metadata": {},
     "output_type": "display_data"
    }
   ],
   "source": [
    "print(df.groupby('converted')['time_spent'].mean())\n",
    "sns.boxplot(data=df, x='time_spent',y='converted')\n",
    "plt.show()"
   ]
  },
  {
   "cell_type": "code",
   "execution_count": 16,
   "id": "31a151d1",
   "metadata": {},
   "outputs": [
    {
     "name": "stdout",
     "output_type": "stream",
     "text": [
      "group\n",
      "control      4.5324\n",
      "treatment    6.2232\n",
      "Name: time_spent, dtype: float64\n"
     ]
    },
    {
     "data": {
      "text/plain": [
       "<Axes: xlabel='time_spent', ylabel='group'>"
      ]
     },
     "execution_count": 16,
     "metadata": {},
     "output_type": "execute_result"
    },
    {
     "data": {
      "image/png": "[encoded data removed]",
      "text/plain": [
       "<Figure size 640x480 with 1 Axes>"
      ]
     },
     "metadata": {},
     "output_type": "display_data"
    }
   ],
   "source": [
    "print(df.groupby('group')['time_spent'].mean())\n",
    "sns.boxplot(data=df, x='time_spent', y='group')"
   ]
  },
  {
   "cell_type": "code",
   "execution_count": 17,
   "id": "db58af9a",
   "metadata": {},
   "outputs": [
    {
     "name": "stdout",
     "output_type": "stream",
     "text": [
      "language_preferred\n",
      "English    5.559062\n",
      "French     5.253235\n",
      "Spanish    5.331765\n",
      "Name: time_spent, dtype: float64\n"
     ]
    },
    {
     "data": {
      "text/plain": [
       "<Axes: xlabel='time_spent', ylabel='language_preferred'>"
      ]
     },
     "execution_count": 17,
     "metadata": {},
     "output_type": "execute_result"
    },
    {
     "data": {
      "image/png": "[encoded data removed]",
      "text/plain": [
       "<Figure size 640x480 with 1 Axes>"
      ]
     },
     "metadata": {},
     "output_type": "display_data"
    }
   ],
   "source": [
    "print(df.groupby(['language_preferred'])['time_spent'].mean())\n",
    "sns.boxplot(data=df,x='time_spent',y='language_preferred')"
   ]
  },
  {
   "cell_type": "code",
   "execution_count": 18,
   "id": "b77ec8a4",
   "metadata": {},
   "outputs": [
    {
     "name": "stdout",
     "output_type": "stream",
     "text": [
      "language_preferred  converted\n",
      "English             yes          21\n",
      "                    no           11\n",
      "French              no           19\n",
      "                    yes          15\n",
      "Spanish             yes          18\n",
      "                    no           16\n",
      "Name: count, dtype: int64\n"
     ]
    },
    {
     "data": {
      "text/plain": [
       "<Axes: xlabel='language_preferred', ylabel='count'>"
      ]
     },
     "execution_count": 18,
     "metadata": {},
     "output_type": "execute_result"
    },
    {
     "data": {
      "image/png": "[encoded data removed]",
      "text/plain": [
       "<Figure size 640x480 with 1 Axes>"
      ]
     },
     "metadata": {},
     "output_type": "display_data"
    }
   ],
   "source": [
    "print(df.groupby('language_preferred')['converted'].value_counts())\n",
    "sns.countplot(data=df, x='language_preferred', hue='converted')"
   ]
  },
  {
   "cell_type": "code",
   "execution_count": 19,
   "id": "f7b5f54a",
   "metadata": {
    "scrolled": false
   },
   "outputs": [
    {
     "name": "stdout",
     "output_type": "stream",
     "text": [
      "landing_page  converted\n",
      "new           yes          33\n",
      "              no           17\n",
      "old           no           29\n",
      "              yes          21\n",
      "Name: count, dtype: int64\n"
     ]
    },
    {
     "data": {
      "text/plain": [
       "<Axes: xlabel='landing_page', ylabel='count'>"
      ]
     },
     "execution_count": 19,
     "metadata": {},
     "output_type": "execute_result"
    },
    {
     "data": {
      "image/png": "[encoded data removed]",
      "text/plain": [
       "<Figure size 640x480 with 1 Axes>"
      ]
     },
     "metadata": {},
     "output_type": "display_data"
    }
   ],
   "source": [
    "print(df.groupby('landing_page')['converted'].value_counts())\n",
    "sns.countplot(data=df, x='landing_page', hue='converted')"
   ]
  },
  {
   "cell_type": "markdown",
   "id": "e9da4408",
   "metadata": {},
   "source": [
    "#### Bivariate Analysis\n",
    "* For time spent vs converted, the users that converted stayed on their landing page for longer than than those who didn't. On average, the users that converted spent 6.6 minutes on the page while those who didn't spent 3.9 minutes.\n",
    "* For time spent vs group, the users that were on the new landing page spent longer on the page than those in the control groupl. The users in the treatment group spent 6.22 minutes on average on the page, and those in the control group spent 4.53 minutes on the page.\n",
    "* For time spent vs language, it doesn't seem there is a strong bias towards a language as the means are close to each other at around 5 to 5.5 minutes. The boxplot also shows similar medians and IQR's. \n",
    "* For converted vs language, English had the highest conversion rate at 21 to 11, followed by Spanish at 18 to 16. French had more that didn't convert with a ratio of 15 to 19. There may be a bias here to investigate. \n",
    "* For converted vs landing page, the new landing page had a higher conversion rate at 33 to 17 while the old landing page had a low conversion rate at 21 to 29. There may be a bias here to investigate.  "
   ]
  },
  {
   "cell_type": "markdown",
   "id": "27906576",
   "metadata": {
    "id": "27906576"
   },
   "source": [
    "## 1. Do the users spend more time on the new landing page than the existing landing page?"
   ]
  },
  {
   "cell_type": "markdown",
   "id": "e5fdf0c8",
   "metadata": {
    "id": "e5fdf0c8"
   },
   "source": [
    "### Perform Visual Analysis"
   ]
  },
  {
   "cell_type": "code",
   "execution_count": 20,
   "id": "6eZJa41eg21n",
   "metadata": {
    "id": "6eZJa41eg21n"
   },
   "outputs": [
    {
     "data": {
      "text/plain": [
       "<Axes: xlabel='time_spent', ylabel='landing_page'>"
      ]
     },
     "execution_count": 20,
     "metadata": {},
     "output_type": "execute_result"
    },
    {
     "data": {
      "image/png": "[encoded data removed]",
      "text/plain": [
       "<Figure size 640x480 with 1 Axes>"
      ]
     },
     "metadata": {},
     "output_type": "display_data"
    }
   ],
   "source": [
    "sns.boxplot(data=df,x='time_spent',y='landing_page')"
   ]
  },
  {
   "cell_type": "markdown",
   "id": "56b3dafd",
   "metadata": {
    "id": "56b3dafd"
   },
   "source": [
    "### Step 1: Define the null and alternate hypotheses"
   ]
  },
  {
   "cell_type": "markdown",
   "id": "d2ac77ef",
   "metadata": {
    "id": "d2ac77ef"
   },
   "source": [
    ">$H_0: \\mu_t = \\mu_c$\n",
    "\n",
    "\n",
    ">$H_a: \\mu_t > \\mu_c$"
   ]
  },
  {
   "cell_type": "markdown",
   "id": "c7ee4907",
   "metadata": {
    "id": "c7ee4907"
   },
   "source": [
    "### Step 2: Select Appropriate test"
   ]
  },
  {
   "cell_type": "markdown",
   "id": "2c183cd7",
   "metadata": {
    "id": "2c183cd7"
   },
   "source": [
    "A 2-Sample independent t-test will be used. \n",
    "* The treatment and control groups are not depdendent on each other\n",
    "* With a sample size of more than 30 for each, and with \"time spent\" being on a continuous scale, the data can be assumed to be normally distributed. \n",
    "* The population standard deviation of the old landing page is unknown. The standard deviations of the samples are unequal\n",
    "* The samples were randomly chosen"
   ]
  },
  {
   "cell_type": "markdown",
   "id": "3f58c9a7",
   "metadata": {
    "id": "3f58c9a7"
   },
   "source": [
    "### Step 3: Decide the significance level"
   ]
  },
  {
   "cell_type": "markdown",
   "id": "92d7d7ee",
   "metadata": {
    "id": "92d7d7ee"
   },
   "source": [
    "The significance level will be 5%."
   ]
  },
  {
   "cell_type": "code",
   "execution_count": 21,
   "id": "75286452",
   "metadata": {},
   "outputs": [],
   "source": [
    "alpha = 0.05"
   ]
  },
  {
   "cell_type": "markdown",
   "id": "5fed2eac",
   "metadata": {
    "id": "5fed2eac"
   },
   "source": [
    "### Step 4: Collect and prepare data"
   ]
  },
  {
   "cell_type": "code",
   "execution_count": 22,
   "id": "f5a59495",
   "metadata": {
    "id": "f5a59495"
   },
   "outputs": [
    {
     "data": {
      "text/html": [
       "<div>\n",
       "<style scoped>\n",
       "    .dataframe tbody tr th:only-of-type {\n",
       "        vertical-align: middle;\n",
       "    }\n",
       "\n",
       "    .dataframe tbody tr th {\n",
       "        vertical-align: top;\n",
       "    }\n",
       "\n",
       "    .dataframe thead th {\n",
       "        text-align: right;\n",
       "    }\n",
       "</style>\n",
       "<table border=\"1\" class=\"dataframe\">\n",
       "  <thead>\n",
       "    <tr style=\"text-align: right;\">\n",
       "      <th></th>\n",
       "      <th>user_id</th>\n",
       "      <th>group</th>\n",
       "      <th>landing_page</th>\n",
       "      <th>time_spent</th>\n",
       "      <th>converted</th>\n",
       "      <th>language_preferred</th>\n",
       "    </tr>\n",
       "  </thead>\n",
       "  <tbody>\n",
       "    <tr>\n",
       "      <th>0</th>\n",
       "      <td>546592</td>\n",
       "      <td>control</td>\n",
       "      <td>old</td>\n",
       "      <td>3.48</td>\n",
       "      <td>no</td>\n",
       "      <td>Spanish</td>\n",
       "    </tr>\n",
       "    <tr>\n",
       "      <th>3</th>\n",
       "      <td>546567</td>\n",
       "      <td>control</td>\n",
       "      <td>old</td>\n",
       "      <td>3.02</td>\n",
       "      <td>no</td>\n",
       "      <td>French</td>\n",
       "    </tr>\n",
       "    <tr>\n",
       "      <th>5</th>\n",
       "      <td>546558</td>\n",
       "      <td>control</td>\n",
       "      <td>old</td>\n",
       "      <td>5.28</td>\n",
       "      <td>yes</td>\n",
       "      <td>English</td>\n",
       "    </tr>\n",
       "    <tr>\n",
       "      <th>7</th>\n",
       "      <td>546581</td>\n",
       "      <td>control</td>\n",
       "      <td>old</td>\n",
       "      <td>6.53</td>\n",
       "      <td>yes</td>\n",
       "      <td>Spanish</td>\n",
       "    </tr>\n",
       "    <tr>\n",
       "      <th>9</th>\n",
       "      <td>546548</td>\n",
       "      <td>control</td>\n",
       "      <td>old</td>\n",
       "      <td>2.08</td>\n",
       "      <td>no</td>\n",
       "      <td>English</td>\n",
       "    </tr>\n",
       "  </tbody>\n",
       "</table>\n",
       "</div>"
      ],
      "text/plain": [
       "   user_id    group landing_page  time_spent converted language_preferred\n",
       "0   546592  control          old        3.48        no            Spanish\n",
       "3   546567  control          old        3.02        no             French\n",
       "5   546558  control          old        5.28       yes            English\n",
       "7   546581  control          old        6.53       yes            Spanish\n",
       "9   546548  control          old        2.08        no            English"
      ]
     },
     "metadata": {},
     "output_type": "display_data"
    },
    {
     "data": {
      "text/html": [
       "<div>\n",
       "<style scoped>\n",
       "    .dataframe tbody tr th:only-of-type {\n",
       "        vertical-align: middle;\n",
       "    }\n",
       "\n",
       "    .dataframe tbody tr th {\n",
       "        vertical-align: top;\n",
       "    }\n",
       "\n",
       "    .dataframe thead th {\n",
       "        text-align: right;\n",
       "    }\n",
       "</style>\n",
       "<table border=\"1\" class=\"dataframe\">\n",
       "  <thead>\n",
       "    <tr style=\"text-align: right;\">\n",
       "      <th></th>\n",
       "      <th>user_id</th>\n",
       "      <th>group</th>\n",
       "      <th>landing_page</th>\n",
       "      <th>time_spent</th>\n",
       "      <th>converted</th>\n",
       "      <th>language_preferred</th>\n",
       "    </tr>\n",
       "  </thead>\n",
       "  <tbody>\n",
       "    <tr>\n",
       "      <th>1</th>\n",
       "      <td>546468</td>\n",
       "      <td>treatment</td>\n",
       "      <td>new</td>\n",
       "      <td>7.13</td>\n",
       "      <td>yes</td>\n",
       "      <td>English</td>\n",
       "    </tr>\n",
       "    <tr>\n",
       "      <th>2</th>\n",
       "      <td>546462</td>\n",
       "      <td>treatment</td>\n",
       "      <td>new</td>\n",
       "      <td>4.40</td>\n",
       "      <td>no</td>\n",
       "      <td>Spanish</td>\n",
       "    </tr>\n",
       "    <tr>\n",
       "      <th>4</th>\n",
       "      <td>546459</td>\n",
       "      <td>treatment</td>\n",
       "      <td>new</td>\n",
       "      <td>4.75</td>\n",
       "      <td>yes</td>\n",
       "      <td>Spanish</td>\n",
       "    </tr>\n",
       "    <tr>\n",
       "      <th>6</th>\n",
       "      <td>546448</td>\n",
       "      <td>treatment</td>\n",
       "      <td>new</td>\n",
       "      <td>5.25</td>\n",
       "      <td>yes</td>\n",
       "      <td>French</td>\n",
       "    </tr>\n",
       "    <tr>\n",
       "      <th>8</th>\n",
       "      <td>546461</td>\n",
       "      <td>treatment</td>\n",
       "      <td>new</td>\n",
       "      <td>10.71</td>\n",
       "      <td>yes</td>\n",
       "      <td>French</td>\n",
       "    </tr>\n",
       "  </tbody>\n",
       "</table>\n",
       "</div>"
      ],
      "text/plain": [
       "   user_id      group landing_page  time_spent converted language_preferred\n",
       "1   546468  treatment          new        7.13       yes            English\n",
       "2   546462  treatment          new        4.40        no            Spanish\n",
       "4   546459  treatment          new        4.75       yes            Spanish\n",
       "6   546448  treatment          new        5.25       yes             French\n",
       "8   546461  treatment          new       10.71       yes             French"
      ]
     },
     "execution_count": 22,
     "metadata": {},
     "output_type": "execute_result"
    }
   ],
   "source": [
    "display(df_control.head())\n",
    "df_treat.head()"
   ]
  },
  {
   "cell_type": "code",
   "execution_count": 23,
   "id": "76972405",
   "metadata": {},
   "outputs": [
    {
     "name": "stdout",
     "output_type": "stream",
     "text": [
      "2.581974849306046\n",
      "1.8170310387878263\n"
     ]
    }
   ],
   "source": [
    "print(df_control['time_spent'].std())\n",
    "print(df_treat['time_spent'].std())"
   ]
  },
  {
   "cell_type": "markdown",
   "id": "f5c5258d",
   "metadata": {
    "id": "f5c5258d"
   },
   "source": [
    "### Step 5: Calculate the p-value"
   ]
  },
  {
   "cell_type": "code",
   "execution_count": 24,
   "id": "fac8594a",
   "metadata": {
    "id": "fac8594a"
   },
   "outputs": [
    {
     "data": {
      "text/plain": [
       "0.0001392381225166549"
      ]
     },
     "execution_count": 24,
     "metadata": {},
     "output_type": "execute_result"
    }
   ],
   "source": [
    "from scipy.stats import ttest_ind\n",
    "test_stat1, p_val1 = ttest_ind(df_treat['time_spent'], df_control['time_spent'], equal_var=False, alternative='greater')\n",
    "p_val1"
   ]
  },
  {
   "cell_type": "markdown",
   "id": "359b12f8",
   "metadata": {
    "id": "359b12f8"
   },
   "source": [
    "### Step 6: Compare the p-value with $\\alpha$"
   ]
  },
  {
   "cell_type": "code",
   "execution_count": 25,
   "id": "7be47289",
   "metadata": {
    "id": "7be47289"
   },
   "outputs": [
    {
     "name": "stdout",
     "output_type": "stream",
     "text": [
      "The p-value of 0.0001 is less than 5%, and we reject the null the hypothesis\n"
     ]
    }
   ],
   "source": [
    "if p_val1 > alpha:\n",
    "    print(f'The p-value of {round(p_val1,4)} is greater than 5%, and we fail to reject the null the hypothesis')\n",
    "else:\n",
    "    print(f'The p-value of {round(p_val1,4)} is less than 5%, and we reject the null the hypothesis') "
   ]
  },
  {
   "cell_type": "markdown",
   "id": "d9affc84",
   "metadata": {
    "id": "d9affc84"
   },
   "source": [
    "### Step 7:  Draw inference"
   ]
  },
  {
   "cell_type": "markdown",
   "id": "6b16dd4b",
   "metadata": {
    "id": "6b16dd4b"
   },
   "source": [
    "Since the p-value obtained from the 2-sample t-test is less than the 5% level of significance, we reject the null hypothesis and can conclude that users spend more time on the new landing page than the old one. "
   ]
  },
  {
   "cell_type": "markdown",
   "id": "353e9d24",
   "metadata": {
    "id": "353e9d24"
   },
   "source": [
    "## 2. Is the conversion rate (the proportion of users who visit the landing page and get converted) for the new page greater than the conversion rate for the old page?"
   ]
  },
  {
   "cell_type": "code",
   "execution_count": 26,
   "id": "7b348d73",
   "metadata": {},
   "outputs": [
    {
     "data": {
      "text/plain": [
       "<Axes: xlabel='landing_page', ylabel='count'>"
      ]
     },
     "execution_count": 26,
     "metadata": {},
     "output_type": "execute_result"
    },
    {
     "data": {
      "image/png": "[encoded data removed]",
      "text/plain": [
       "<Figure size 640x480 with 1 Axes>"
      ]
     },
     "metadata": {},
     "output_type": "display_data"
    }
   ],
   "source": [
    "sns.countplot(data=df, x='landing_page', hue='converted')"
   ]
  },
  {
   "cell_type": "markdown",
   "id": "3337c97c",
   "metadata": {
    "id": "b7f52898"
   },
   "source": [
    ">$H_0:  p_1 = p_2$\n",
    "\n",
    ">$H_a: p_1 > p_2$"
   ]
  },
  {
   "cell_type": "code",
   "execution_count": 27,
   "id": "0e5f306b",
   "metadata": {},
   "outputs": [
    {
     "name": "stdout",
     "output_type": "stream",
     "text": [
      "Converted for control group:\n",
      "converted\n",
      "no     29\n",
      "yes    21\n",
      "Name: count, dtype: int64\n",
      "\n",
      "Converted for treatment group:\n",
      "converted\n",
      "yes    33\n",
      "no     17\n",
      "Name: count, dtype: int64\n"
     ]
    }
   ],
   "source": [
    "print('Converted for control group:')\n",
    "print(df_control['converted'].value_counts())\n",
    "print()\n",
    "print('Converted for treatment group:')\n",
    "print(df_treat['converted'].value_counts())"
   ]
  },
  {
   "cell_type": "markdown",
   "id": "21bbe0fe",
   "metadata": {},
   "source": [
    "A 2-Sample Proportions Z-Test will be used in this test. The significance level is 5%. \n",
    "* The relevant data is binomially distributed, with converted being \"yes\" or \"no\"\n",
    "* The sample was randomly selected\n",
    "* The distribution can be approximated to be normal:\n",
    ">$np_1 = 50\\cdot \\frac{33}{50} =33 \\geq 10\\\\\n",
    "n(1-p_1) = 50 \\cdot \\frac{50-33}{50} =17 \\geq 10 \\\\\n",
    "np_2 = 50\\cdot \\frac{21}{50} =21 \\geq 10\\\\\n",
    "n(1-p_2) = 50 \\cdot \\frac{50-21}{50} =29 \\geq 10 $"
   ]
  },
  {
   "cell_type": "code",
   "execution_count": 28,
   "id": "4f2f9ee9",
   "metadata": {},
   "outputs": [],
   "source": [
    "no_conv = np.array([33,21])\n",
    "no_obs2 = np.array([50,50])"
   ]
  },
  {
   "cell_type": "code",
   "execution_count": 29,
   "id": "2266a8b1",
   "metadata": {},
   "outputs": [
    {
     "data": {
      "text/plain": [
       "0.008026308204056278"
      ]
     },
     "execution_count": 29,
     "metadata": {},
     "output_type": "execute_result"
    }
   ],
   "source": [
    "from statsmodels.stats.proportion import proportions_ztest\n",
    "\n",
    "test_stat2, p_val2 = proportions_ztest(no_conv,no_obs2, alternative = 'larger')\n",
    "p_val2"
   ]
  },
  {
   "cell_type": "code",
   "execution_count": 30,
   "id": "a7cbcaac",
   "metadata": {},
   "outputs": [
    {
     "name": "stdout",
     "output_type": "stream",
     "text": [
      "The p-value of 0.008 is less than 5%, and we reject the null the hypothesis\n"
     ]
    }
   ],
   "source": [
    "if p_val2 > alpha:\n",
    "    print(f'The p-value of {round(p_val2,4)} is greater than 5%, and we fail to reject the null the hypothesis')\n",
    "else:\n",
    "    print(f'The p-value of {round(p_val2,4)} is less than 5%, and we reject the null the hypothesis')"
   ]
  },
  {
   "cell_type": "markdown",
   "id": "e9f59e1c",
   "metadata": {},
   "source": [
    "Because the p-value is less than the 5% level of significance, we reject the null hypothesis and conlcude that the conversion rate is greater on the new page. "
   ]
  },
  {
   "cell_type": "markdown",
   "id": "d49bfa2d",
   "metadata": {
    "id": "d49bfa2d"
   },
   "source": [
    "## 3. Is the conversion and preferred language independent or related?"
   ]
  },
  {
   "cell_type": "code",
   "execution_count": 31,
   "id": "9de90b6c",
   "metadata": {},
   "outputs": [
    {
     "data": {
      "text/plain": [
       "<Axes: xlabel='language_preferred', ylabel='count'>"
      ]
     },
     "execution_count": 31,
     "metadata": {},
     "output_type": "execute_result"
    },
    {
     "data": {
      "image/png": "[encoded data removed]",
      "text/plain": [
       "<Figure size 640x480 with 1 Axes>"
      ]
     },
     "metadata": {},
     "output_type": "display_data"
    }
   ],
   "source": [
    "sns.countplot(data=df, x='language_preferred', hue='converted')"
   ]
  },
  {
   "cell_type": "markdown",
   "id": "08bfa223",
   "metadata": {
    "id": "b0e63f17"
   },
   "source": [
    ">$H_0:$ Conversion and Preferred Language are independent\n",
    "\n",
    ">$H_a:$ Conversion and Preferred Language are not independent"
   ]
  },
  {
   "cell_type": "markdown",
   "id": "77d898a4",
   "metadata": {},
   "source": [
    "A Chi-Squared Test for Independence will be used. The significance level is 5%. \n",
    "* The two variables are categorical\n",
    "* Each level of the variable has at least 5 observations\n",
    "* The sample was randomly selected"
   ]
  },
  {
   "cell_type": "code",
   "execution_count": 32,
   "id": "48e9317a",
   "metadata": {},
   "outputs": [
    {
     "data": {
      "text/html": [
       "<div>\n",
       "<style scoped>\n",
       "    .dataframe tbody tr th:only-of-type {\n",
       "        vertical-align: middle;\n",
       "    }\n",
       "\n",
       "    .dataframe tbody tr th {\n",
       "        vertical-align: top;\n",
       "    }\n",
       "\n",
       "    .dataframe thead th {\n",
       "        text-align: right;\n",
       "    }\n",
       "</style>\n",
       "<table border=\"1\" class=\"dataframe\">\n",
       "  <thead>\n",
       "    <tr style=\"text-align: right;\">\n",
       "      <th>language_preferred</th>\n",
       "      <th>English</th>\n",
       "      <th>French</th>\n",
       "      <th>Spanish</th>\n",
       "    </tr>\n",
       "    <tr>\n",
       "      <th>converted</th>\n",
       "      <th></th>\n",
       "      <th></th>\n",
       "      <th></th>\n",
       "    </tr>\n",
       "  </thead>\n",
       "  <tbody>\n",
       "    <tr>\n",
       "      <th>no</th>\n",
       "      <td>11</td>\n",
       "      <td>19</td>\n",
       "      <td>16</td>\n",
       "    </tr>\n",
       "    <tr>\n",
       "      <th>yes</th>\n",
       "      <td>21</td>\n",
       "      <td>15</td>\n",
       "      <td>18</td>\n",
       "    </tr>\n",
       "  </tbody>\n",
       "</table>\n",
       "</div>"
      ],
      "text/plain": [
       "language_preferred  English  French  Spanish\n",
       "converted                                   \n",
       "no                       11      19       16\n",
       "yes                      21      15       18"
      ]
     },
     "execution_count": 32,
     "metadata": {},
     "output_type": "execute_result"
    }
   ],
   "source": [
    "cross3 = pd.crosstab(df['converted'],df['language_preferred'])\n",
    "cross3"
   ]
  },
  {
   "cell_type": "code",
   "execution_count": 33,
   "id": "f10ea973",
   "metadata": {},
   "outputs": [
    {
     "data": {
      "text/plain": [
       "0.21298887487543447"
      ]
     },
     "execution_count": 33,
     "metadata": {},
     "output_type": "execute_result"
    }
   ],
   "source": [
    "from scipy.stats import chi2_contingency\n",
    "\n",
    "chi, p_val3, dof, expected = chi2_contingency(cross3)\n",
    "p_val3"
   ]
  },
  {
   "cell_type": "code",
   "execution_count": 34,
   "id": "820d09c9",
   "metadata": {},
   "outputs": [
    {
     "name": "stdout",
     "output_type": "stream",
     "text": [
      "The p-value of 0.213 is greater than 5%, and we fail to reject the null the hypothesis\n"
     ]
    }
   ],
   "source": [
    "if p_val3 > alpha:\n",
    "    print(f'The p-value of {round(p_val3,4)} is greater than 5%, and we fail to reject the null the hypothesis')\n",
    "else:\n",
    "    print(f'The p-value of {round(p_val3,4)} is less than 5%, and we reject the null the hypothesis')"
   ]
  },
  {
   "cell_type": "markdown",
   "id": "117ddeb9",
   "metadata": {},
   "source": [
    "Because the p-value is larger than 5%, we fail to reject the null hypothesis and can conclude that the conversion rate and the preferred language are independent. "
   ]
  },
  {
   "cell_type": "markdown",
   "id": "8d585a90",
   "metadata": {
    "id": "8d585a90"
   },
   "source": [
    "## 4. Is the time spent on the new page same for the different language users?"
   ]
  },
  {
   "cell_type": "code",
   "execution_count": 35,
   "id": "bde8fb3f",
   "metadata": {},
   "outputs": [
    {
     "data": {
      "text/plain": [
       "<Axes: xlabel='time_spent', ylabel='language_preferred'>"
      ]
     },
     "execution_count": 35,
     "metadata": {},
     "output_type": "execute_result"
    },
    {
     "data": {
      "image/png": "[encoded data removed]",
      "text/plain": [
       "<Figure size 640x480 with 1 Axes>"
      ]
     },
     "metadata": {},
     "output_type": "display_data"
    }
   ],
   "source": [
    "sns.boxplot(data=df_treat, x='time_spent', y='language_preferred')"
   ]
  },
  {
   "cell_type": "markdown",
   "id": "b584267d",
   "metadata": {
    "id": "b422f395"
   },
   "source": [
    "Let $\\mu_e, \\mu_f,$ and $\\mu_s$ denote the mean time spent on the landing page for English, French, and Spanish speakers respectively.\n",
    ">$H_0: \\mu_e = \\mu_f = \\mu_s$\n",
    "\n",
    ">$H_a:$ At least one lanuage has a different time spent on the new landing page"
   ]
  },
  {
   "cell_type": "markdown",
   "id": "45ee6489",
   "metadata": {},
   "source": [
    "A One-Way ANOVA test will be used. The level of significance is 5%.\n",
    "* The sample passes the Shapiro-Wilk's Test - It is normally distributed\n",
    "* The sample passes the Levene's Test - The variances are equal\n",
    "* The sample was randomly selected"
   ]
  },
  {
   "cell_type": "markdown",
   "id": "3090a3a6",
   "metadata": {},
   "source": [
    "#### Shapiro-Wilk's Test"
   ]
  },
  {
   "cell_type": "markdown",
   "id": "4b4a41d1",
   "metadata": {},
   "source": [
    ">$H_0:$ Time spent on the new landing page follows a normal distribution\n",
    "\n",
    ">$H_a:$ Time spent on the new landing page does not follow a normal distribution"
   ]
  },
  {
   "cell_type": "code",
   "execution_count": 36,
   "id": "ed0ece58",
   "metadata": {},
   "outputs": [
    {
     "data": {
      "text/plain": [
       "0.8040016293525696"
      ]
     },
     "execution_count": 36,
     "metadata": {},
     "output_type": "execute_result"
    }
   ],
   "source": [
    "shap, p_val_shap = stats.shapiro(df_treat['time_spent'])\n",
    "p_val_shap"
   ]
  },
  {
   "cell_type": "code",
   "execution_count": 37,
   "id": "9b1dcb47",
   "metadata": {},
   "outputs": [
    {
     "name": "stdout",
     "output_type": "stream",
     "text": [
      "The p-value of 0.8 is greater than 5%, and we fail to reject the null the hypothesis\n"
     ]
    }
   ],
   "source": [
    "if p_val_shap > alpha:\n",
    "    print(f'The p-value of {round(p_val_shap,2)} is greater than 5%, and we fail to reject the null the hypothesis')\n",
    "else:\n",
    "    print(f'The p-value of {round(p_val_shap,2)} is less than 5%, and we reject the null the hypothesis')"
   ]
  },
  {
   "cell_type": "markdown",
   "id": "fcb7997a",
   "metadata": {},
   "source": [
    "#### Levene's Test"
   ]
  },
  {
   "cell_type": "markdown",
   "id": "12342f79",
   "metadata": {},
   "source": [
    ">$H_0:$ The population variances are equal\n",
    "\n",
    ">$H_a:$ At least one of the population variances is different"
   ]
  },
  {
   "cell_type": "code",
   "execution_count": 38,
   "id": "8f037b70",
   "metadata": {},
   "outputs": [
    {
     "data": {
      "text/plain": [
       "0.46711357711340173"
      ]
     },
     "execution_count": 38,
     "metadata": {},
     "output_type": "execute_result"
    }
   ],
   "source": [
    "lev, p_val_lev = stats.levene(\n",
    "    df_treat[df_treat['language_preferred']=='English']['time_spent'],\n",
    "    df_treat[df_treat['language_preferred']=='French']['time_spent'],\n",
    "    df_treat[df_treat['language_preferred']=='Spanish']['time_spent']\n",
    ")\n",
    "p_val_lev"
   ]
  },
  {
   "cell_type": "code",
   "execution_count": 39,
   "id": "68aa615d",
   "metadata": {},
   "outputs": [
    {
     "name": "stdout",
     "output_type": "stream",
     "text": [
      "The p-value of 0.467 is greater than 5%, and we fail to reject the null the hypothesis\n"
     ]
    }
   ],
   "source": [
    "if p_val_lev > alpha:\n",
    "    print(f'The p-value of {round(p_val_lev,3)} is greater than 5%, and we fail to reject the null the hypothesis')\n",
    "else:\n",
    "    print(f'The p-value of {round(p_val_lev,3)} is less than 5%, and we reject the null the hypothesis')"
   ]
  },
  {
   "cell_type": "markdown",
   "id": "6b5711e2",
   "metadata": {},
   "source": [
    "#### One-way ANOVA"
   ]
  },
  {
   "cell_type": "code",
   "execution_count": 40,
   "id": "41ce2ccc",
   "metadata": {},
   "outputs": [
    {
     "data": {
      "text/plain": [
       "0.43204138694325955"
      ]
     },
     "execution_count": 40,
     "metadata": {},
     "output_type": "execute_result"
    }
   ],
   "source": [
    "fstat4, p_val4 = stats.f_oneway(\n",
    "    df_treat[df_treat['language_preferred']=='English']['time_spent'],\n",
    "    df_treat[df_treat['language_preferred']=='French']['time_spent'],\n",
    "    df_treat[df_treat['language_preferred']=='Spanish']['time_spent']\n",
    ")\n",
    "p_val4"
   ]
  },
  {
   "cell_type": "code",
   "execution_count": 41,
   "id": "500adf14",
   "metadata": {},
   "outputs": [
    {
     "name": "stdout",
     "output_type": "stream",
     "text": [
      "The p-value of 0.432 is greater than 5%, and we fail to reject the null the hypothesis\n"
     ]
    }
   ],
   "source": [
    "if p_val4 > alpha:\n",
    "    print(f'The p-value of {round(p_val4,3)} is greater than 5%, and we fail to reject the null the hypothesis')\n",
    "else:\n",
    "    print(f'The p-value of {round(p_val4,3)} is less than 5%, and we reject the null the hypothesis')"
   ]
  },
  {
   "cell_type": "markdown",
   "id": "70fd63c1",
   "metadata": {},
   "source": [
    "Because the p-value is larger than 5%, we fail to reject the null hypothesis and conclude that the time spent on the new landing page is the same for the three languages. "
   ]
  },
  {
   "cell_type": "markdown",
   "id": "3acbc947",
   "metadata": {
    "id": "3acbc947"
   },
   "source": [
    "## Conclusion and Business Recommendations"
   ]
  },
  {
   "cell_type": "markdown",
   "id": "21fb1063",
   "metadata": {
    "id": "21fb1063"
   },
   "source": [
    "To summarize the answers for the four questions:\n",
    "1. Through a 2-Sample t-test, we concluded that users spend more time on the new landing page when compared with the old one. \n",
    "2. Through a 2-Sample Porportions Z-test, we concluded that the conversion rate is higher on the new page when compared with the old one. \n",
    "3. Through a Chi-Squared Test for Independence we concluded that conversion rate and preferred language are independent of each other.\n",
    "4. Through a One-way ANOVA we concluded that the time spent on the new landing page is the same for the three preferred languages. \n",
    "\n",
    "#### Recommendations\n",
    "* For additional data, it may be useful to record how many clicks a user made on the old vs the new landing page. This could give insight into how the different pages affect engagement for the users. Additional languages could also be observed to add variety to the data. An additional study could also be conducted with a larger sample size to give more accurate insight into how the users react to the landing page.  \n",
    "* Since it was concluded that users spend more time and are more likely to convert with the new landing page, the company should emphasize pushing this out. It could potentially bring in more subscriptions and profit. \n",
    "* The tests showed there was no significant correlation between language and conversion rate/time spent on the landing page. As such, the company can spend resources to focus on other observations and data collection. If the company wants to bolster the conversion rate of a specific language, they can spend resources to do so also. For example, this sample shows that French speakers had the lowest conversion rate. Even if it may simply be due to random chance, the company can use this insight to potentially focus resources in the French market. "
   ]
  },
  {
   "cell_type": "markdown",
   "id": "U0dAd4i0iCHo",
   "metadata": {
    "id": "U0dAd4i0iCHo"
   },
   "source": [
    "___"
   ]
  }
 ],
 "metadata": {
  "colab": {
   "collapsed_sections": [
    "a6a3d218",
    "6970dd99",
    "9d75cfa2",
    "68f3b2c9",
    "fad2de2f",
    "27906576",
    "e5fdf0c8",
    "56b3dafd",
    "c7ee4907",
    "3f58c9a7",
    "5fed2eac",
    "f5c5258d",
    "359b12f8",
    "d9affc84",
    "353e9d24",
    "d49bfa2d",
    "8d585a90",
    "3acbc947"
   ],
   "name": "ENews_Express_Learner_Notebook_Full_Code v1.1.ipynb",
   "provenance": []
  },
  "kernelspec": {
   "display_name": "Python 3 (ipykernel)",
   "language": "python",
   "name": "python3"
  },
  "language_info": {
   "codemirror_mode": {
    "name": "ipython",
    "version": 3
   },
   "file_extension": ".py",
   "mimetype": "text/x-python",
   "name": "python",
   "nbconvert_exporter": "python",
   "pygments_lexer": "ipython3",
   "version": "3.11.5"
  }
 },
 "nbformat": 4,
 "nbformat_minor": 5
}
